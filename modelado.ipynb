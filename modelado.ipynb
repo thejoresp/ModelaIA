{
 "cells": [
  {
   "cell_type": "code",
   "metadata": {
    "ExecuteTime": {
     "end_time": "2024-06-28T13:44:37.202865Z",
     "start_time": "2024-06-28T13:44:37.200869Z"
    }
   },
   "source": [
    "import pandas as pd \n",
    "import numpy as np\n",
    "import matplotlib.pyplot as plt\n",
    "import seaborn as sns"
   ],
   "outputs": [],
   "execution_count": 18
  },
  {
   "metadata": {},
   "cell_type": "markdown",
   "source": [
    "### Predecir cuántas veces será compartido un artículo de Machine Learning.\n",
    "Regresión lineal simple en Python (con 1 variable)\n",
    "TIPS o sugerencias:\n",
    "- [ ] Importar el data set\n",
    "- [ ] Explorar los datos\n",
    "- [ ] Elegir la variable a analizar\n",
    "- [ ] Utilizar la libreria SciKitLearn\n",
    "- [ ] Se sugiere tomar como inputs la columna  Word Count y como \"etiquetas\" la columna #Shares\n",
    "- [ ] Graficar la exploracion de datos\n",
    "- [ ] Calcular la Prediccion"
   ]
  },
  {
   "metadata": {
    "ExecuteTime": {
     "end_time": "2024-06-28T13:44:37.222383Z",
     "start_time": "2024-06-28T13:44:37.218932Z"
    }
   },
   "cell_type": "code",
   "source": [
    "# mint \n",
    "ruta = '/home/jorge/Programacion/Ciencia Datos/IFTS11/Modelado IA/Entrega/ModelaIA'\n",
    "articulos = pd.read_csv(ruta + '/articulos_ml.csv')"
   ],
   "outputs": [],
   "execution_count": 19
  },
  {
   "metadata": {
    "ExecuteTime": {
     "end_time": "2024-06-28T13:44:37.262723Z",
     "start_time": "2024-06-28T13:44:37.256420Z"
    }
   },
   "cell_type": "code",
   "source": "articulos",
   "outputs": [
    {
     "data": {
      "text/plain": [
       "                                                 Title  \\\n",
       "0    What is Machine Learning and how do we use it ...   \n",
       "1     10 Companies Using Machine Learning in Cool Ways   \n",
       "2    How Artificial Intelligence Is Revolutionizing...   \n",
       "3    Dbrain and the Blockchain of Artificial Intell...   \n",
       "4    Nasa finds entire solar system filled with eig...   \n",
       "..                                                 ...   \n",
       "156  [Log] 83: How Google Uses Machine Learning And...   \n",
       "157  [Log] 84: Zuck Knows If You've Been Bad Or Goo...   \n",
       "158  [Log] 85: Microsoft Improves Windows Phone Voi...   \n",
       "159  [Log] 86: How Google's Acquisition Of DNNresea...   \n",
       "160   [Log] 87: Google's Cloud Is Eating Apple's Lunch   \n",
       "\n",
       "                                                   url  Word count  \\\n",
       "0    https://blog.signals.network/what-is-machine-l...        1888   \n",
       "1                                                  NaN        1742   \n",
       "2                                                  NaN         962   \n",
       "3                                                  NaN        1221   \n",
       "4                                                  NaN        2039   \n",
       "..                                                 ...         ...   \n",
       "156  [Log] 83: http://feedproxy.google.com/~r/Techc...        3239   \n",
       "157  [Log] 84: http://feedproxy.google.com/~r/Techc...        2566   \n",
       "158  [Log] 85: http://feedproxy.google.com/~r/Techc...        2089   \n",
       "159  [Log] 86: http://feedproxy.google.com/~r/Techc...        1530   \n",
       "160  [Log] 87: http://feedproxy.google.com/~r/Techc...         953   \n",
       "\n",
       "     # of Links  # of comments  # Images video  Elapsed days  # Shares  \n",
       "0             1            2.0               2            34    200000  \n",
       "1             9            NaN               9             5     25000  \n",
       "2             6            0.0               1            10     42000  \n",
       "3             3            NaN               2            68    200000  \n",
       "4             1          104.0               4           131    200000  \n",
       "..          ...            ...             ...           ...       ...  \n",
       "156           3           11.0               1            84      3239  \n",
       "157           3            8.0               4            85     25019  \n",
       "158           4            4.0               1            86     49614  \n",
       "159           4           12.0               3            87     33660  \n",
       "160           6           13.0               2            88      5956  \n",
       "\n",
       "[161 rows x 8 columns]"
      ],
      "text/html": [
       "<div>\n",
       "<style scoped>\n",
       "    .dataframe tbody tr th:only-of-type {\n",
       "        vertical-align: middle;\n",
       "    }\n",
       "\n",
       "    .dataframe tbody tr th {\n",
       "        vertical-align: top;\n",
       "    }\n",
       "\n",
       "    .dataframe thead th {\n",
       "        text-align: right;\n",
       "    }\n",
       "</style>\n",
       "<table border=\"1\" class=\"dataframe\">\n",
       "  <thead>\n",
       "    <tr style=\"text-align: right;\">\n",
       "      <th></th>\n",
       "      <th>Title</th>\n",
       "      <th>url</th>\n",
       "      <th>Word count</th>\n",
       "      <th># of Links</th>\n",
       "      <th># of comments</th>\n",
       "      <th># Images video</th>\n",
       "      <th>Elapsed days</th>\n",
       "      <th># Shares</th>\n",
       "    </tr>\n",
       "  </thead>\n",
       "  <tbody>\n",
       "    <tr>\n",
       "      <th>0</th>\n",
       "      <td>What is Machine Learning and how do we use it ...</td>\n",
       "      <td>https://blog.signals.network/what-is-machine-l...</td>\n",
       "      <td>1888</td>\n",
       "      <td>1</td>\n",
       "      <td>2.0</td>\n",
       "      <td>2</td>\n",
       "      <td>34</td>\n",
       "      <td>200000</td>\n",
       "    </tr>\n",
       "    <tr>\n",
       "      <th>1</th>\n",
       "      <td>10 Companies Using Machine Learning in Cool Ways</td>\n",
       "      <td>NaN</td>\n",
       "      <td>1742</td>\n",
       "      <td>9</td>\n",
       "      <td>NaN</td>\n",
       "      <td>9</td>\n",
       "      <td>5</td>\n",
       "      <td>25000</td>\n",
       "    </tr>\n",
       "    <tr>\n",
       "      <th>2</th>\n",
       "      <td>How Artificial Intelligence Is Revolutionizing...</td>\n",
       "      <td>NaN</td>\n",
       "      <td>962</td>\n",
       "      <td>6</td>\n",
       "      <td>0.0</td>\n",
       "      <td>1</td>\n",
       "      <td>10</td>\n",
       "      <td>42000</td>\n",
       "    </tr>\n",
       "    <tr>\n",
       "      <th>3</th>\n",
       "      <td>Dbrain and the Blockchain of Artificial Intell...</td>\n",
       "      <td>NaN</td>\n",
       "      <td>1221</td>\n",
       "      <td>3</td>\n",
       "      <td>NaN</td>\n",
       "      <td>2</td>\n",
       "      <td>68</td>\n",
       "      <td>200000</td>\n",
       "    </tr>\n",
       "    <tr>\n",
       "      <th>4</th>\n",
       "      <td>Nasa finds entire solar system filled with eig...</td>\n",
       "      <td>NaN</td>\n",
       "      <td>2039</td>\n",
       "      <td>1</td>\n",
       "      <td>104.0</td>\n",
       "      <td>4</td>\n",
       "      <td>131</td>\n",
       "      <td>200000</td>\n",
       "    </tr>\n",
       "    <tr>\n",
       "      <th>...</th>\n",
       "      <td>...</td>\n",
       "      <td>...</td>\n",
       "      <td>...</td>\n",
       "      <td>...</td>\n",
       "      <td>...</td>\n",
       "      <td>...</td>\n",
       "      <td>...</td>\n",
       "      <td>...</td>\n",
       "    </tr>\n",
       "    <tr>\n",
       "      <th>156</th>\n",
       "      <td>[Log] 83: How Google Uses Machine Learning And...</td>\n",
       "      <td>[Log] 83: http://feedproxy.google.com/~r/Techc...</td>\n",
       "      <td>3239</td>\n",
       "      <td>3</td>\n",
       "      <td>11.0</td>\n",
       "      <td>1</td>\n",
       "      <td>84</td>\n",
       "      <td>3239</td>\n",
       "    </tr>\n",
       "    <tr>\n",
       "      <th>157</th>\n",
       "      <td>[Log] 84: Zuck Knows If You've Been Bad Or Goo...</td>\n",
       "      <td>[Log] 84: http://feedproxy.google.com/~r/Techc...</td>\n",
       "      <td>2566</td>\n",
       "      <td>3</td>\n",
       "      <td>8.0</td>\n",
       "      <td>4</td>\n",
       "      <td>85</td>\n",
       "      <td>25019</td>\n",
       "    </tr>\n",
       "    <tr>\n",
       "      <th>158</th>\n",
       "      <td>[Log] 85: Microsoft Improves Windows Phone Voi...</td>\n",
       "      <td>[Log] 85: http://feedproxy.google.com/~r/Techc...</td>\n",
       "      <td>2089</td>\n",
       "      <td>4</td>\n",
       "      <td>4.0</td>\n",
       "      <td>1</td>\n",
       "      <td>86</td>\n",
       "      <td>49614</td>\n",
       "    </tr>\n",
       "    <tr>\n",
       "      <th>159</th>\n",
       "      <td>[Log] 86: How Google's Acquisition Of DNNresea...</td>\n",
       "      <td>[Log] 86: http://feedproxy.google.com/~r/Techc...</td>\n",
       "      <td>1530</td>\n",
       "      <td>4</td>\n",
       "      <td>12.0</td>\n",
       "      <td>3</td>\n",
       "      <td>87</td>\n",
       "      <td>33660</td>\n",
       "    </tr>\n",
       "    <tr>\n",
       "      <th>160</th>\n",
       "      <td>[Log] 87: Google's Cloud Is Eating Apple's Lunch</td>\n",
       "      <td>[Log] 87: http://feedproxy.google.com/~r/Techc...</td>\n",
       "      <td>953</td>\n",
       "      <td>6</td>\n",
       "      <td>13.0</td>\n",
       "      <td>2</td>\n",
       "      <td>88</td>\n",
       "      <td>5956</td>\n",
       "    </tr>\n",
       "  </tbody>\n",
       "</table>\n",
       "<p>161 rows × 8 columns</p>\n",
       "</div>"
      ]
     },
     "execution_count": 20,
     "metadata": {},
     "output_type": "execute_result"
    }
   ],
   "execution_count": 20
  },
  {
   "metadata": {
    "ExecuteTime": {
     "end_time": "2024-06-28T13:44:37.279677Z",
     "start_time": "2024-06-28T13:44:37.263573Z"
    }
   },
   "cell_type": "code",
   "source": "articulos.head()",
   "outputs": [
    {
     "data": {
      "text/plain": [
       "                                               Title  \\\n",
       "0  What is Machine Learning and how do we use it ...   \n",
       "1   10 Companies Using Machine Learning in Cool Ways   \n",
       "2  How Artificial Intelligence Is Revolutionizing...   \n",
       "3  Dbrain and the Blockchain of Artificial Intell...   \n",
       "4  Nasa finds entire solar system filled with eig...   \n",
       "\n",
       "                                                 url  Word count  # of Links  \\\n",
       "0  https://blog.signals.network/what-is-machine-l...        1888           1   \n",
       "1                                                NaN        1742           9   \n",
       "2                                                NaN         962           6   \n",
       "3                                                NaN        1221           3   \n",
       "4                                                NaN        2039           1   \n",
       "\n",
       "   # of comments  # Images video  Elapsed days  # Shares  \n",
       "0            2.0               2            34    200000  \n",
       "1            NaN               9             5     25000  \n",
       "2            0.0               1            10     42000  \n",
       "3            NaN               2            68    200000  \n",
       "4          104.0               4           131    200000  "
      ],
      "text/html": [
       "<div>\n",
       "<style scoped>\n",
       "    .dataframe tbody tr th:only-of-type {\n",
       "        vertical-align: middle;\n",
       "    }\n",
       "\n",
       "    .dataframe tbody tr th {\n",
       "        vertical-align: top;\n",
       "    }\n",
       "\n",
       "    .dataframe thead th {\n",
       "        text-align: right;\n",
       "    }\n",
       "</style>\n",
       "<table border=\"1\" class=\"dataframe\">\n",
       "  <thead>\n",
       "    <tr style=\"text-align: right;\">\n",
       "      <th></th>\n",
       "      <th>Title</th>\n",
       "      <th>url</th>\n",
       "      <th>Word count</th>\n",
       "      <th># of Links</th>\n",
       "      <th># of comments</th>\n",
       "      <th># Images video</th>\n",
       "      <th>Elapsed days</th>\n",
       "      <th># Shares</th>\n",
       "    </tr>\n",
       "  </thead>\n",
       "  <tbody>\n",
       "    <tr>\n",
       "      <th>0</th>\n",
       "      <td>What is Machine Learning and how do we use it ...</td>\n",
       "      <td>https://blog.signals.network/what-is-machine-l...</td>\n",
       "      <td>1888</td>\n",
       "      <td>1</td>\n",
       "      <td>2.0</td>\n",
       "      <td>2</td>\n",
       "      <td>34</td>\n",
       "      <td>200000</td>\n",
       "    </tr>\n",
       "    <tr>\n",
       "      <th>1</th>\n",
       "      <td>10 Companies Using Machine Learning in Cool Ways</td>\n",
       "      <td>NaN</td>\n",
       "      <td>1742</td>\n",
       "      <td>9</td>\n",
       "      <td>NaN</td>\n",
       "      <td>9</td>\n",
       "      <td>5</td>\n",
       "      <td>25000</td>\n",
       "    </tr>\n",
       "    <tr>\n",
       "      <th>2</th>\n",
       "      <td>How Artificial Intelligence Is Revolutionizing...</td>\n",
       "      <td>NaN</td>\n",
       "      <td>962</td>\n",
       "      <td>6</td>\n",
       "      <td>0.0</td>\n",
       "      <td>1</td>\n",
       "      <td>10</td>\n",
       "      <td>42000</td>\n",
       "    </tr>\n",
       "    <tr>\n",
       "      <th>3</th>\n",
       "      <td>Dbrain and the Blockchain of Artificial Intell...</td>\n",
       "      <td>NaN</td>\n",
       "      <td>1221</td>\n",
       "      <td>3</td>\n",
       "      <td>NaN</td>\n",
       "      <td>2</td>\n",
       "      <td>68</td>\n",
       "      <td>200000</td>\n",
       "    </tr>\n",
       "    <tr>\n",
       "      <th>4</th>\n",
       "      <td>Nasa finds entire solar system filled with eig...</td>\n",
       "      <td>NaN</td>\n",
       "      <td>2039</td>\n",
       "      <td>1</td>\n",
       "      <td>104.0</td>\n",
       "      <td>4</td>\n",
       "      <td>131</td>\n",
       "      <td>200000</td>\n",
       "    </tr>\n",
       "  </tbody>\n",
       "</table>\n",
       "</div>"
      ]
     },
     "execution_count": 21,
     "metadata": {},
     "output_type": "execute_result"
    }
   ],
   "execution_count": 21
  },
  {
   "metadata": {
    "ExecuteTime": {
     "end_time": "2024-06-28T13:44:37.287282Z",
     "start_time": "2024-06-28T13:44:37.280661Z"
    }
   },
   "cell_type": "code",
   "source": "articulos.tail()",
   "outputs": [
    {
     "data": {
      "text/plain": [
       "                                                 Title  \\\n",
       "156  [Log] 83: How Google Uses Machine Learning And...   \n",
       "157  [Log] 84: Zuck Knows If You've Been Bad Or Goo...   \n",
       "158  [Log] 85: Microsoft Improves Windows Phone Voi...   \n",
       "159  [Log] 86: How Google's Acquisition Of DNNresea...   \n",
       "160   [Log] 87: Google's Cloud Is Eating Apple's Lunch   \n",
       "\n",
       "                                                   url  Word count  \\\n",
       "156  [Log] 83: http://feedproxy.google.com/~r/Techc...        3239   \n",
       "157  [Log] 84: http://feedproxy.google.com/~r/Techc...        2566   \n",
       "158  [Log] 85: http://feedproxy.google.com/~r/Techc...        2089   \n",
       "159  [Log] 86: http://feedproxy.google.com/~r/Techc...        1530   \n",
       "160  [Log] 87: http://feedproxy.google.com/~r/Techc...         953   \n",
       "\n",
       "     # of Links  # of comments  # Images video  Elapsed days  # Shares  \n",
       "156           3           11.0               1            84      3239  \n",
       "157           3            8.0               4            85     25019  \n",
       "158           4            4.0               1            86     49614  \n",
       "159           4           12.0               3            87     33660  \n",
       "160           6           13.0               2            88      5956  "
      ],
      "text/html": [
       "<div>\n",
       "<style scoped>\n",
       "    .dataframe tbody tr th:only-of-type {\n",
       "        vertical-align: middle;\n",
       "    }\n",
       "\n",
       "    .dataframe tbody tr th {\n",
       "        vertical-align: top;\n",
       "    }\n",
       "\n",
       "    .dataframe thead th {\n",
       "        text-align: right;\n",
       "    }\n",
       "</style>\n",
       "<table border=\"1\" class=\"dataframe\">\n",
       "  <thead>\n",
       "    <tr style=\"text-align: right;\">\n",
       "      <th></th>\n",
       "      <th>Title</th>\n",
       "      <th>url</th>\n",
       "      <th>Word count</th>\n",
       "      <th># of Links</th>\n",
       "      <th># of comments</th>\n",
       "      <th># Images video</th>\n",
       "      <th>Elapsed days</th>\n",
       "      <th># Shares</th>\n",
       "    </tr>\n",
       "  </thead>\n",
       "  <tbody>\n",
       "    <tr>\n",
       "      <th>156</th>\n",
       "      <td>[Log] 83: How Google Uses Machine Learning And...</td>\n",
       "      <td>[Log] 83: http://feedproxy.google.com/~r/Techc...</td>\n",
       "      <td>3239</td>\n",
       "      <td>3</td>\n",
       "      <td>11.0</td>\n",
       "      <td>1</td>\n",
       "      <td>84</td>\n",
       "      <td>3239</td>\n",
       "    </tr>\n",
       "    <tr>\n",
       "      <th>157</th>\n",
       "      <td>[Log] 84: Zuck Knows If You've Been Bad Or Goo...</td>\n",
       "      <td>[Log] 84: http://feedproxy.google.com/~r/Techc...</td>\n",
       "      <td>2566</td>\n",
       "      <td>3</td>\n",
       "      <td>8.0</td>\n",
       "      <td>4</td>\n",
       "      <td>85</td>\n",
       "      <td>25019</td>\n",
       "    </tr>\n",
       "    <tr>\n",
       "      <th>158</th>\n",
       "      <td>[Log] 85: Microsoft Improves Windows Phone Voi...</td>\n",
       "      <td>[Log] 85: http://feedproxy.google.com/~r/Techc...</td>\n",
       "      <td>2089</td>\n",
       "      <td>4</td>\n",
       "      <td>4.0</td>\n",
       "      <td>1</td>\n",
       "      <td>86</td>\n",
       "      <td>49614</td>\n",
       "    </tr>\n",
       "    <tr>\n",
       "      <th>159</th>\n",
       "      <td>[Log] 86: How Google's Acquisition Of DNNresea...</td>\n",
       "      <td>[Log] 86: http://feedproxy.google.com/~r/Techc...</td>\n",
       "      <td>1530</td>\n",
       "      <td>4</td>\n",
       "      <td>12.0</td>\n",
       "      <td>3</td>\n",
       "      <td>87</td>\n",
       "      <td>33660</td>\n",
       "    </tr>\n",
       "    <tr>\n",
       "      <th>160</th>\n",
       "      <td>[Log] 87: Google's Cloud Is Eating Apple's Lunch</td>\n",
       "      <td>[Log] 87: http://feedproxy.google.com/~r/Techc...</td>\n",
       "      <td>953</td>\n",
       "      <td>6</td>\n",
       "      <td>13.0</td>\n",
       "      <td>2</td>\n",
       "      <td>88</td>\n",
       "      <td>5956</td>\n",
       "    </tr>\n",
       "  </tbody>\n",
       "</table>\n",
       "</div>"
      ]
     },
     "execution_count": 22,
     "metadata": {},
     "output_type": "execute_result"
    }
   ],
   "execution_count": 22
  },
  {
   "metadata": {
    "ExecuteTime": {
     "end_time": "2024-06-28T13:44:37.300184Z",
     "start_time": "2024-06-28T13:44:37.287980Z"
    }
   },
   "cell_type": "code",
   "source": "articulos.describe()",
   "outputs": [
    {
     "data": {
      "text/plain": [
       "        Word count  # of Links  # of comments  # Images video  Elapsed days  \\\n",
       "count   161.000000  161.000000     129.000000      161.000000    161.000000   \n",
       "mean   1808.260870    9.739130       8.782946        3.670807     98.124224   \n",
       "std    1141.919385   47.271625      13.142822        3.418290    114.337535   \n",
       "min     250.000000    0.000000       0.000000        1.000000      1.000000   \n",
       "25%     990.000000    3.000000       2.000000        1.000000     31.000000   \n",
       "50%    1674.000000    5.000000       6.000000        3.000000     62.000000   \n",
       "75%    2369.000000    7.000000      12.000000        5.000000    124.000000   \n",
       "max    8401.000000  600.000000     104.000000       22.000000   1002.000000   \n",
       "\n",
       "            # Shares  \n",
       "count     161.000000  \n",
       "mean    27948.347826  \n",
       "std     43408.006839  \n",
       "min         0.000000  \n",
       "25%      2800.000000  \n",
       "50%     16458.000000  \n",
       "75%     35691.000000  \n",
       "max    350000.000000  "
      ],
      "text/html": [
       "<div>\n",
       "<style scoped>\n",
       "    .dataframe tbody tr th:only-of-type {\n",
       "        vertical-align: middle;\n",
       "    }\n",
       "\n",
       "    .dataframe tbody tr th {\n",
       "        vertical-align: top;\n",
       "    }\n",
       "\n",
       "    .dataframe thead th {\n",
       "        text-align: right;\n",
       "    }\n",
       "</style>\n",
       "<table border=\"1\" class=\"dataframe\">\n",
       "  <thead>\n",
       "    <tr style=\"text-align: right;\">\n",
       "      <th></th>\n",
       "      <th>Word count</th>\n",
       "      <th># of Links</th>\n",
       "      <th># of comments</th>\n",
       "      <th># Images video</th>\n",
       "      <th>Elapsed days</th>\n",
       "      <th># Shares</th>\n",
       "    </tr>\n",
       "  </thead>\n",
       "  <tbody>\n",
       "    <tr>\n",
       "      <th>count</th>\n",
       "      <td>161.000000</td>\n",
       "      <td>161.000000</td>\n",
       "      <td>129.000000</td>\n",
       "      <td>161.000000</td>\n",
       "      <td>161.000000</td>\n",
       "      <td>161.000000</td>\n",
       "    </tr>\n",
       "    <tr>\n",
       "      <th>mean</th>\n",
       "      <td>1808.260870</td>\n",
       "      <td>9.739130</td>\n",
       "      <td>8.782946</td>\n",
       "      <td>3.670807</td>\n",
       "      <td>98.124224</td>\n",
       "      <td>27948.347826</td>\n",
       "    </tr>\n",
       "    <tr>\n",
       "      <th>std</th>\n",
       "      <td>1141.919385</td>\n",
       "      <td>47.271625</td>\n",
       "      <td>13.142822</td>\n",
       "      <td>3.418290</td>\n",
       "      <td>114.337535</td>\n",
       "      <td>43408.006839</td>\n",
       "    </tr>\n",
       "    <tr>\n",
       "      <th>min</th>\n",
       "      <td>250.000000</td>\n",
       "      <td>0.000000</td>\n",
       "      <td>0.000000</td>\n",
       "      <td>1.000000</td>\n",
       "      <td>1.000000</td>\n",
       "      <td>0.000000</td>\n",
       "    </tr>\n",
       "    <tr>\n",
       "      <th>25%</th>\n",
       "      <td>990.000000</td>\n",
       "      <td>3.000000</td>\n",
       "      <td>2.000000</td>\n",
       "      <td>1.000000</td>\n",
       "      <td>31.000000</td>\n",
       "      <td>2800.000000</td>\n",
       "    </tr>\n",
       "    <tr>\n",
       "      <th>50%</th>\n",
       "      <td>1674.000000</td>\n",
       "      <td>5.000000</td>\n",
       "      <td>6.000000</td>\n",
       "      <td>3.000000</td>\n",
       "      <td>62.000000</td>\n",
       "      <td>16458.000000</td>\n",
       "    </tr>\n",
       "    <tr>\n",
       "      <th>75%</th>\n",
       "      <td>2369.000000</td>\n",
       "      <td>7.000000</td>\n",
       "      <td>12.000000</td>\n",
       "      <td>5.000000</td>\n",
       "      <td>124.000000</td>\n",
       "      <td>35691.000000</td>\n",
       "    </tr>\n",
       "    <tr>\n",
       "      <th>max</th>\n",
       "      <td>8401.000000</td>\n",
       "      <td>600.000000</td>\n",
       "      <td>104.000000</td>\n",
       "      <td>22.000000</td>\n",
       "      <td>1002.000000</td>\n",
       "      <td>350000.000000</td>\n",
       "    </tr>\n",
       "  </tbody>\n",
       "</table>\n",
       "</div>"
      ]
     },
     "execution_count": 23,
     "metadata": {},
     "output_type": "execute_result"
    }
   ],
   "execution_count": 23
  },
  {
   "metadata": {
    "ExecuteTime": {
     "end_time": "2024-06-28T13:44:37.308834Z",
     "start_time": "2024-06-28T13:44:37.301072Z"
    }
   },
   "cell_type": "code",
   "source": "articulos.info()",
   "outputs": [
    {
     "name": "stdout",
     "output_type": "stream",
     "text": [
      "<class 'pandas.core.frame.DataFrame'>\n",
      "RangeIndex: 161 entries, 0 to 160\n",
      "Data columns (total 8 columns):\n",
      " #   Column          Non-Null Count  Dtype  \n",
      "---  ------          --------------  -----  \n",
      " 0   Title           161 non-null    object \n",
      " 1   url             122 non-null    object \n",
      " 2   Word count      161 non-null    int64  \n",
      " 3   # of Links      161 non-null    int64  \n",
      " 4   # of comments   129 non-null    float64\n",
      " 5   # Images video  161 non-null    int64  \n",
      " 6   Elapsed days    161 non-null    int64  \n",
      " 7   # Shares        161 non-null    int64  \n",
      "dtypes: float64(1), int64(5), object(2)\n",
      "memory usage: 10.2+ KB\n"
     ]
    }
   ],
   "execution_count": 24
  },
  {
   "metadata": {
    "ExecuteTime": {
     "end_time": "2024-06-28T13:44:37.314483Z",
     "start_time": "2024-06-28T13:44:37.309502Z"
    }
   },
   "cell_type": "code",
   "source": "articulos.shape",
   "outputs": [
    {
     "data": {
      "text/plain": [
       "(161, 8)"
      ]
     },
     "execution_count": 25,
     "metadata": {},
     "output_type": "execute_result"
    }
   ],
   "execution_count": 25
  },
  {
   "metadata": {
    "ExecuteTime": {
     "end_time": "2024-06-28T13:44:37.319082Z",
     "start_time": "2024-06-28T13:44:37.315102Z"
    }
   },
   "cell_type": "code",
   "source": "articulos.columns",
   "outputs": [
    {
     "data": {
      "text/plain": [
       "Index(['Title', 'url', 'Word count', '# of Links', '# of comments',\n",
       "       '# Images video', 'Elapsed days', '# Shares'],\n",
       "      dtype='object')"
      ]
     },
     "execution_count": 26,
     "metadata": {},
     "output_type": "execute_result"
    }
   ],
   "execution_count": 26
  },
  {
   "metadata": {
    "ExecuteTime": {
     "end_time": "2024-06-28T13:44:37.325525Z",
     "start_time": "2024-06-28T13:44:37.321408Z"
    }
   },
   "cell_type": "code",
   "source": "articulos.count()",
   "outputs": [
    {
     "data": {
      "text/plain": [
       "Title             161\n",
       "url               122\n",
       "Word count        161\n",
       "# of Links        161\n",
       "# of comments     129\n",
       "# Images video    161\n",
       "Elapsed days      161\n",
       "# Shares          161\n",
       "dtype: int64"
      ]
     },
     "execution_count": 27,
     "metadata": {},
     "output_type": "execute_result"
    }
   ],
   "execution_count": 27
  },
  {
   "metadata": {
    "ExecuteTime": {
     "end_time": "2024-06-28T13:44:37.356210Z",
     "start_time": "2024-06-28T13:44:37.353359Z"
    }
   },
   "cell_type": "code",
   "source": [
    "nan_total = articulos.isna().sum()\n",
    "print(nan_total)"
   ],
   "outputs": [
    {
     "name": "stdout",
     "output_type": "stream",
     "text": [
      "Title              0\n",
      "url               39\n",
      "Word count         0\n",
      "# of Links         0\n",
      "# of comments     32\n",
      "# Images video     0\n",
      "Elapsed days       0\n",
      "# Shares           0\n",
      "dtype: int64\n"
     ]
    }
   ],
   "execution_count": 28
  },
  {
   "metadata": {
    "ExecuteTime": {
     "end_time": "2024-06-28T13:44:37.442571Z",
     "start_time": "2024-06-28T13:44:37.439137Z"
    }
   },
   "cell_type": "code",
   "source": [
    "unicos = articulos.nunique()\n",
    "print(unicos)"
   ],
   "outputs": [
    {
     "name": "stdout",
     "output_type": "stream",
     "text": [
      "Title             161\n",
      "url               121\n",
      "Word count        157\n",
      "# of Links         23\n",
      "# of comments      24\n",
      "# Images video     15\n",
      "Elapsed days      133\n",
      "# Shares          144\n",
      "dtype: int64\n"
     ]
    }
   ],
   "execution_count": 29
  },
  {
   "metadata": {
    "ExecuteTime": {
     "end_time": "2024-06-28T13:44:37.531951Z",
     "start_time": "2024-06-28T13:44:37.529697Z"
    }
   },
   "cell_type": "code",
   "source": "articulos_sin_nan = articulos.fillna(0)",
   "outputs": [],
   "execution_count": 30
  },
  {
   "metadata": {
    "ExecuteTime": {
     "end_time": "2024-06-28T13:44:37.638398Z",
     "start_time": "2024-06-28T13:44:37.635096Z"
    }
   },
   "cell_type": "code",
   "source": [
    "unicos = articulos_sin_nan.nunique()\n",
    "print(unicos)"
   ],
   "outputs": [
    {
     "name": "stdout",
     "output_type": "stream",
     "text": [
      "Title             161\n",
      "url               122\n",
      "Word count        157\n",
      "# of Links         23\n",
      "# of comments      24\n",
      "# Images video     15\n",
      "Elapsed days      133\n",
      "# Shares          144\n",
      "dtype: int64\n"
     ]
    }
   ],
   "execution_count": 31
  },
  {
   "metadata": {
    "ExecuteTime": {
     "end_time": "2024-06-28T13:45:01.208694Z",
     "start_time": "2024-06-28T13:45:01.204824Z"
    }
   },
   "cell_type": "code",
   "source": [
    "articulos= articulos_sin_nan.isna().sum()\n",
    "articulos = articulos_sin_nan\n",
    "articulos"
   ],
   "outputs": [
    {
     "data": {
      "text/plain": [
       "Title             0\n",
       "url               0\n",
       "Word count        0\n",
       "# of Links        0\n",
       "# of comments     0\n",
       "# Images video    0\n",
       "Elapsed days      0\n",
       "# Shares          0\n",
       "dtype: int64"
      ]
     },
     "execution_count": 35,
     "metadata": {},
     "output_type": "execute_result"
    }
   ],
   "execution_count": 35
  },
  {
   "metadata": {
    "ExecuteTime": {
     "end_time": "2024-06-28T13:44:37.664635Z",
     "start_time": "2024-06-28T13:44:37.659560Z"
    }
   },
   "cell_type": "code",
   "source": "articulos.isna().sum()",
   "outputs": [
    {
     "data": {
      "text/plain": [
       "Title             0\n",
       "url               0\n",
       "Word count        0\n",
       "# of Links        0\n",
       "# of comments     0\n",
       "# Images video    0\n",
       "Elapsed days      0\n",
       "# Shares          0\n",
       "dtype: int64"
      ]
     },
     "execution_count": 33,
     "metadata": {},
     "output_type": "execute_result"
    }
   ],
   "execution_count": 33
  },
  {
   "metadata": {
    "ExecuteTime": {
     "end_time": "2024-06-28T13:44:37.680501Z",
     "start_time": "2024-06-28T13:44:37.675862Z"
    }
   },
   "cell_type": "code",
   "source": "articulos[['Word count', '# Shares']]",
   "outputs": [
    {
     "data": {
      "text/plain": [
       "     Word count  # Shares\n",
       "0          1888    200000\n",
       "1          1742     25000\n",
       "2           962     42000\n",
       "3          1221    200000\n",
       "4          2039    200000\n",
       "..          ...       ...\n",
       "156        3239      3239\n",
       "157        2566     25019\n",
       "158        2089     49614\n",
       "159        1530     33660\n",
       "160         953      5956\n",
       "\n",
       "[161 rows x 2 columns]"
      ],
      "text/html": [
       "<div>\n",
       "<style scoped>\n",
       "    .dataframe tbody tr th:only-of-type {\n",
       "        vertical-align: middle;\n",
       "    }\n",
       "\n",
       "    .dataframe tbody tr th {\n",
       "        vertical-align: top;\n",
       "    }\n",
       "\n",
       "    .dataframe thead th {\n",
       "        text-align: right;\n",
       "    }\n",
       "</style>\n",
       "<table border=\"1\" class=\"dataframe\">\n",
       "  <thead>\n",
       "    <tr style=\"text-align: right;\">\n",
       "      <th></th>\n",
       "      <th>Word count</th>\n",
       "      <th># Shares</th>\n",
       "    </tr>\n",
       "  </thead>\n",
       "  <tbody>\n",
       "    <tr>\n",
       "      <th>0</th>\n",
       "      <td>1888</td>\n",
       "      <td>200000</td>\n",
       "    </tr>\n",
       "    <tr>\n",
       "      <th>1</th>\n",
       "      <td>1742</td>\n",
       "      <td>25000</td>\n",
       "    </tr>\n",
       "    <tr>\n",
       "      <th>2</th>\n",
       "      <td>962</td>\n",
       "      <td>42000</td>\n",
       "    </tr>\n",
       "    <tr>\n",
       "      <th>3</th>\n",
       "      <td>1221</td>\n",
       "      <td>200000</td>\n",
       "    </tr>\n",
       "    <tr>\n",
       "      <th>4</th>\n",
       "      <td>2039</td>\n",
       "      <td>200000</td>\n",
       "    </tr>\n",
       "    <tr>\n",
       "      <th>...</th>\n",
       "      <td>...</td>\n",
       "      <td>...</td>\n",
       "    </tr>\n",
       "    <tr>\n",
       "      <th>156</th>\n",
       "      <td>3239</td>\n",
       "      <td>3239</td>\n",
       "    </tr>\n",
       "    <tr>\n",
       "      <th>157</th>\n",
       "      <td>2566</td>\n",
       "      <td>25019</td>\n",
       "    </tr>\n",
       "    <tr>\n",
       "      <th>158</th>\n",
       "      <td>2089</td>\n",
       "      <td>49614</td>\n",
       "    </tr>\n",
       "    <tr>\n",
       "      <th>159</th>\n",
       "      <td>1530</td>\n",
       "      <td>33660</td>\n",
       "    </tr>\n",
       "    <tr>\n",
       "      <th>160</th>\n",
       "      <td>953</td>\n",
       "      <td>5956</td>\n",
       "    </tr>\n",
       "  </tbody>\n",
       "</table>\n",
       "<p>161 rows × 2 columns</p>\n",
       "</div>"
      ]
     },
     "execution_count": 34,
     "metadata": {},
     "output_type": "execute_result"
    }
   ],
   "execution_count": 34
  }
 ],
 "metadata": {
  "kernelspec": {
   "display_name": "base",
   "language": "python",
   "name": "python3"
  },
  "language_info": {
   "codemirror_mode": {
    "name": "ipython",
    "version": 3
   },
   "file_extension": ".py",
   "mimetype": "text/x-python",
   "name": "python",
   "nbconvert_exporter": "python",
   "pygments_lexer": "ipython3",
   "version": "3.11.7"
  }
 },
 "nbformat": 4,
 "nbformat_minor": 2
}
